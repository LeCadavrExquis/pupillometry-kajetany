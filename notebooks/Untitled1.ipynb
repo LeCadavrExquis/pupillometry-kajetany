{
 "cells": [
  {
   "cell_type": "code",
   "execution_count": 8,
   "metadata": {},
   "outputs": [
    {
     "data": {
      "text/html": [
       "   <div id=\"1JlW8j\"></div>\n",
       "   <script type=\"text/javascript\" data-lets-plot-script=\"library\">\n",
       "       if(!window.letsPlotCallQueue) {\n",
       "           window.letsPlotCallQueue = [];\n",
       "       }; \n",
       "       window.letsPlotCall = function(f) {\n",
       "           window.letsPlotCallQueue.push(f);\n",
       "       };\n",
       "       (function() {\n",
       "           var script = document.createElement(\"script\");\n",
       "           script.type = \"text/javascript\";\n",
       "           script.src = \"https://cdnjs.cloudflare.com/ajax/libs/lets-plot/2.0.2/lets-plot.min.js\";\n",
       "           script.onload = function() {\n",
       "               window.letsPlotCall = function(f) {f();};\n",
       "               window.letsPlotCallQueue.forEach(function(f) {f();});\n",
       "               window.letsPlotCallQueue = [];\n",
       "               \n",
       "               \n",
       "           };\n",
       "           script.onerror = function(event) {\n",
       "               window.letsPlotCall = function(f) {};\n",
       "               window.letsPlotCallQueue = [];\n",
       "               var div = document.createElement(\"div\");\n",
       "               div.style.color = 'darkred';\n",
       "               div.textContent = 'Error loading Lets-Plot JS';\n",
       "               document.getElementById(\"1JlW8j\").appendChild(div);\n",
       "           };\n",
       "           var e = document.getElementById(\"1JlW8j\");\n",
       "           e.appendChild(script);\n",
       "       })();\n",
       "   </script>"
      ]
     },
     "metadata": {},
     "output_type": "display_data"
    }
   ],
   "source": [
    "%use krangl, lets-plot"
   ]
  },
  {
   "cell_type": "code",
   "execution_count": 2,
   "metadata": {},
   "outputs": [],
   "source": [
    "val subjects = DataFrame.readCSV(\"../resources/subjects.csv\")"
   ]
  },
  {
   "cell_type": "code",
   "execution_count": 6,
   "metadata": {},
   "outputs": [
    {
     "data": {
      "text/html": [
       "<html><body><table><tr><th style=\"text-align:left\">subject_id</th><th style=\"text-align:left\">group_id</th></tr><tr><td style=\"text-align:left\" title=\"11210595\">11210595</td><td style=\"text-align:left\" title=\"1\">1</td></tr><tr><td style=\"text-align:left\" title=\"51827474\">51827474</td><td style=\"text-align:left\" title=\"1\">1</td></tr><tr><td style=\"text-align:left\" title=\"52645476\">52645476</td><td style=\"text-align:left\" title=\"2\">2</td></tr><tr><td style=\"text-align:left\" title=\"32430400\">32430400</td><td style=\"text-align:left\" title=\"1\">1</td></tr><tr><td style=\"text-align:left\" title=\"87737653\">87737653</td><td style=\"text-align:left\" title=\"2\">2</td></tr><tr><td style=\"text-align:left\" title=\"69189805\">69189805</td><td style=\"text-align:left\" title=\"2\">2</td></tr><tr><td style=\"text-align:left\" title=\"79234988\">79234988</td><td style=\"text-align:left\" title=\"2\">2</td></tr><tr><td style=\"text-align:left\" title=\"27616904\">27616904</td><td style=\"text-align:left\" title=\"1\">1</td></tr><tr><td style=\"text-align:left\" title=\"39540956\">39540956</td><td style=\"text-align:left\" title=\"1\">1</td></tr><tr><td style=\"text-align:left\" title=\"69612942\">69612942</td><td style=\"text-align:left\" title=\"1\">1</td></tr></table></body></html>"
      ]
     },
     "execution_count": 6,
     "metadata": {},
     "output_type": "execute_result"
    }
   ],
   "source": [
    "subjects.head(10)"
   ]
  },
  {
   "cell_type": "code",
   "execution_count": 20,
   "metadata": {},
   "outputs": [],
   "source": [
    "val p = lets_plot(subjects.toMap())"
   ]
  },
  {
   "cell_type": "code",
   "execution_count": 21,
   "metadata": {},
   "outputs": [
    {
     "data": {
      "text/html": [
       "   <div id=\"7an6hx\"></div>\n",
       "   <script type=\"text/javascript\" data-lets-plot-script=\"plot\">\n",
       "       (function() {\n",
       "           var plotSpec={\n",
       "'mapping':{\n",
       "},\n",
       "'data':{\n",
       "},\n",
       "'kind':\"plot\",\n",
       "'scales':[],\n",
       "'layers':[{\n",
       "'mapping':{\n",
       "},\n",
       "'stat':\"bin\",\n",
       "'data':{\n",
       "'..count..':[],\n",
       "'..x..':[]\n",
       "},\n",
       "'position':\"stack\",\n",
       "'geom':\"histogram\"\n",
       "}]\n",
       "};\n",
       "           var plotContainer = document.getElementById(\"7an6hx\");\n",
       "           window.letsPlotCall(function() {{\n",
       "               LetsPlot.buildPlotFromProcessedSpecs(plotSpec, -1, -1, plotContainer);\n",
       "           }});\n",
       "       })();    \n",
       "   </script>"
      ]
     },
     "execution_count": 21,
     "metadata": {},
     "output_type": "execute_result"
    }
   ],
   "source": [
    "p + geomHistogram()"
   ]
  },
  {
   "cell_type": "code",
   "execution_count": 12,
   "metadata": {},
   "outputs": [
    {
     "name": "stdout",
     "output_type": "stream",
     "text": [
      "{subject_id=[Ljava.lang.Integer;@206a1a3, group_id=[Ljava.lang.Integer;@3cbca8fe}"
     ]
    }
   ],
   "source": [
    "print(subjects.toMap())"
   ]
  },
  {
   "cell_type": "code",
   "execution_count": 19,
   "metadata": {},
   "outputs": [
    {
     "name": "stdout",
     "output_type": "stream",
     "text": [
      "11210595\n",
      "51827474\n",
      "52645476\n",
      "32430400\n",
      "87737653\n",
      "69189805\n",
      "79234988\n",
      "27616904\n",
      "39540956\n",
      "69612942\n",
      "98985498\n",
      "47422828\n",
      "34889963\n",
      "73122277\n",
      "1251385\n",
      "25014271\n",
      "20347401\n",
      "47586985\n",
      "13453690\n",
      "2537837\n",
      "5960537\n",
      "61422198\n",
      "58797805\n",
      "68045039\n",
      "37508289\n",
      "44760927\n",
      "86833022\n",
      "52280506\n",
      "81860530\n",
      "5126762\n",
      "66115912\n",
      "12051804\n",
      "40336340\n",
      "43672168\n",
      "33031682\n",
      "32837660\n",
      "99146114\n",
      "90247624\n",
      "29594651\n",
      "55249888\n",
      "68943735\n",
      "74856862\n",
      "43112780\n",
      "43514922\n",
      "56243357\n",
      "96148024\n",
      "71180240\n",
      "31269370\n",
      "67723944\n",
      "27966735\n",
      "35921992\n",
      "40080017\n",
      "35698956\n",
      "74178062\n",
      "96601161\n",
      "37160569\n",
      "91218349\n",
      "55491908\n",
      "78047215\n",
      "83653635\n",
      "51446032\n",
      "37760537\n",
      "18366622\n",
      "27485404\n",
      "96770788\n",
      "54578671\n",
      "21523076\n",
      "62656247\n",
      "15246098\n",
      "41774881\n",
      "61744545\n",
      "94988288\n",
      "10155690\n",
      "35213365\n",
      "88281458\n",
      "9622354\n",
      "4529209\n",
      "75524371\n",
      "19861910\n",
      "34636726\n",
      "92551357\n",
      "93822148\n",
      "55270203\n",
      "84206351\n",
      "44296699\n",
      "72240241\n",
      "1\n",
      "1\n",
      "2\n",
      "1\n",
      "2\n",
      "2\n",
      "2\n",
      "1\n",
      "1\n",
      "1\n",
      "2\n",
      "1\n",
      "2\n",
      "2\n",
      "1\n",
      "1\n",
      "1\n",
      "2\n",
      "2\n",
      "1\n",
      "2\n",
      "1\n",
      "1\n",
      "1\n",
      "1\n",
      "2\n",
      "1\n",
      "1\n",
      "2\n",
      "1\n",
      "1\n",
      "2\n",
      "2\n",
      "1\n",
      "1\n",
      "2\n",
      "2\n",
      "2\n",
      "1\n",
      "1\n",
      "2\n",
      "2\n",
      "2\n",
      "1\n",
      "1\n",
      "2\n",
      "1\n",
      "2\n",
      "1\n",
      "2\n",
      "2\n",
      "1\n",
      "1\n",
      "1\n",
      "2\n",
      "3\n",
      "3\n",
      "3\n",
      "3\n",
      "3\n",
      "3\n",
      "3\n",
      "3\n",
      "3\n",
      "3\n",
      "3\n",
      "3\n",
      "3\n",
      "3\n",
      "3\n",
      "3\n",
      "3\n",
      "3\n",
      "3\n",
      "3\n",
      "3\n",
      "3\n",
      "3\n",
      "3\n",
      "3\n",
      "3\n",
      "3\n",
      "3\n",
      "3\n",
      "3\n",
      "3\n"
     ]
    }
   ],
   "source": [
    "subjects.toMap().entries.forEach { it.value.asList().forEach { println(it) } }"
   ]
  },
  {
   "cell_type": "code",
   "execution_count": null,
   "metadata": {},
   "outputs": [],
   "source": []
  }
 ],
 "metadata": {
  "kernelspec": {
   "display_name": "Kotlin",
   "language": "kotlin",
   "name": "kotlin"
  },
  "language_info": {
   "codemirror_mode": "text/x-kotlin",
   "file_extension": ".kt",
   "mimetype": "text/x-kotlin",
   "name": "kotlin",
   "nbconvert_exporter": "",
   "pygments_lexer": "kotlin",
   "version": "1.5.20-dev-4184"
  }
 },
 "nbformat": 4,
 "nbformat_minor": 4
}
