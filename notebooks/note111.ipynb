{
 "cells": [
  {
   "cell_type": "code",
   "execution_count": 1,
   "metadata": {},
   "outputs": [],
   "source": [
    "%use krangl"
   ]
  },
  {
   "cell_type": "code",
   "execution_count": 2,
   "metadata": {},
   "outputs": [],
   "source": [
    "val subjects = DataFrame.readCSV(\"../resources/subjects.csv\")"
   ]
  },
  {
   "cell_type": "code",
   "execution_count": 3,
   "metadata": {},
   "outputs": [
    {
     "name": "stdout",
     "output_type": "stream",
     "text": [
      "A DataFrame: 86 x 2\n",
      "     subject_id   group_id\n",
      " 1     11210595          1\n",
      " 2     51827474          1\n",
      " 3     52645476          2\n",
      " 4     32430400          1\n",
      " 5     87737653          2\n",
      " 6     69189805          2\n",
      " 7     79234988          2\n",
      " 8     27616904          1\n",
      " 9     39540956          1\n",
      "10     69612942          1\n",
      "and 76 more rows"
     ]
    }
   ],
   "source": [
    "print(subjects)"
   ]
  },
  {
   "cell_type": "code",
   "execution_count": 4,
   "metadata": {},
   "outputs": [
    {
     "name": "stdout",
     "output_type": "stream",
     "text": [
      "DataFrame with 86 observations\n",
      "subject_id  [Int]  11210595, 51827474, 52645476, 32430400, 87737653, 69189805, 79234988, 27616904, 39540956, 69612942, ...\n",
      "group_id    [Int]  1, 1, 2, 1, 2, 2, 2, 1, 1, 1, 2, 1, 2, 2, 1, 1, 1, 2, 2, 1, 2, 1, 1, 1, 1, 2, 1, 1, 2, 1, 1, 2, 2, 1...\n",
      "kotlin.Unit"
     ]
    }
   ],
   "source": [
    "print(subjects.schema())"
   ]
  },
  {
   "cell_type": "code",
   "execution_count": null,
   "metadata": {},
   "outputs": [],
   "source": []
  }
 ],
 "metadata": {
  "kernelspec": {
   "display_name": "Kotlin",
   "language": "kotlin",
   "name": "kotlin"
  },
  "language_info": {
   "codemirror_mode": "text/x-kotlin",
   "file_extension": ".kt",
   "mimetype": "text/x-kotlin",
   "name": "kotlin",
   "nbconvert_exporter": "",
   "pygments_lexer": "kotlin",
   "version": "1.5.20-dev-4184"
  }
 },
 "nbformat": 4,
 "nbformat_minor": 4
}
